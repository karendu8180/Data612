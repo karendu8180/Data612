{
  "nbformat": 4,
  "nbformat_minor": 0,
  "metadata": {
    "colab": {
      "name": "Assignment03.ipynb",
      "provenance": [],
      "collapsed_sections": [],
      "include_colab_link": true
    },
    "kernelspec": {
      "name": "python3",
      "display_name": "Python 3"
    }
  },
  "cells": [
    {
      "cell_type": "markdown",
      "metadata": {
        "id": "view-in-github",
        "colab_type": "text"
      },
      "source": [
        "<a href=\"https://colab.research.google.com/github/karendu8180/Data612/blob/main/Assignment03.ipynb\" target=\"_parent\"><img src=\"https://colab.research.google.com/assets/colab-badge.svg\" alt=\"Open In Colab\"/></a>"
      ]
    },
    {
      "cell_type": "markdown",
      "metadata": {
        "id": "69a5oj6QD5sZ"
      },
      "source": [
        "# Assignment for Week 3"
      ]
    },
    {
      "cell_type": "markdown",
      "metadata": {
        "id": "8IZXIH6-D9Qj"
      },
      "source": [
        "## Purpose:\n",
        "This assignment is intended to help you do the following:\n",
        "1.\tBecome familiar with the Seaborn package\n",
        "2.\tLearn to visualize data using Seaborn\n",
        "3.\tDistinguish between various charts and when to utilize them\n"
      ]
    },
    {
      "cell_type": "markdown",
      "metadata": {
        "id": "Yg7ArX6SEtQ6"
      },
      "source": [
        "## Action Items:\n",
        "•\tCreate three different charts using Seaborn package.   \n",
        "  1. Create three different meaningful charts using Seaborn package on your selected data set.      \n",
        "  2. Explain when it is best to use      \n",
        "  3. Post your work in GitHub     \n",
        "  4. Add a README file     \n"
      ]
    },
    {
      "cell_type": "code",
      "metadata": {
        "id": "GHxLudXao3nY"
      },
      "source": [
        "import pandas as pand \n",
        "import pandas as pd\n",
        "import numpy as np\n",
        "import seaborn as sns\n",
        "import matplotlib.pyplot as plt\n",
        "\n",
        "df = pand.read_csv ('https://raw.githubusercontent.com/frankData612/data_612/master/baseballdatabank-master/core/Salaries.csv')"
      ],
      "execution_count": 11,
      "outputs": []
    },
    {
      "cell_type": "code",
      "metadata": {
        "colab": {
          "base_uri": "https://localhost:8080/",
          "height": 204
        },
        "id": "hLPQz9ZJpM_L",
        "outputId": "f65003c0-d0bc-40ac-c563-fcb7d455c28c"
      },
      "source": [
        "#Show the .head() of the data set.\n",
        "df.head()"
      ],
      "execution_count": 22,
      "outputs": [
        {
          "output_type": "execute_result",
          "data": {
            "text/html": [
              "<div>\n",
              "<style scoped>\n",
              "    .dataframe tbody tr th:only-of-type {\n",
              "        vertical-align: middle;\n",
              "    }\n",
              "\n",
              "    .dataframe tbody tr th {\n",
              "        vertical-align: top;\n",
              "    }\n",
              "\n",
              "    .dataframe thead th {\n",
              "        text-align: right;\n",
              "    }\n",
              "</style>\n",
              "<table border=\"1\" class=\"dataframe\">\n",
              "  <thead>\n",
              "    <tr style=\"text-align: right;\">\n",
              "      <th></th>\n",
              "      <th>yearID</th>\n",
              "      <th>teamID</th>\n",
              "      <th>lgID</th>\n",
              "      <th>playerID</th>\n",
              "      <th>salary</th>\n",
              "    </tr>\n",
              "  </thead>\n",
              "  <tbody>\n",
              "    <tr>\n",
              "      <th>0</th>\n",
              "      <td>1985</td>\n",
              "      <td>ATL</td>\n",
              "      <td>NL</td>\n",
              "      <td>barkele01</td>\n",
              "      <td>870000</td>\n",
              "    </tr>\n",
              "    <tr>\n",
              "      <th>1</th>\n",
              "      <td>1985</td>\n",
              "      <td>ATL</td>\n",
              "      <td>NL</td>\n",
              "      <td>bedrost01</td>\n",
              "      <td>550000</td>\n",
              "    </tr>\n",
              "    <tr>\n",
              "      <th>2</th>\n",
              "      <td>1985</td>\n",
              "      <td>ATL</td>\n",
              "      <td>NL</td>\n",
              "      <td>benedbr01</td>\n",
              "      <td>545000</td>\n",
              "    </tr>\n",
              "    <tr>\n",
              "      <th>3</th>\n",
              "      <td>1985</td>\n",
              "      <td>ATL</td>\n",
              "      <td>NL</td>\n",
              "      <td>campri01</td>\n",
              "      <td>633333</td>\n",
              "    </tr>\n",
              "    <tr>\n",
              "      <th>4</th>\n",
              "      <td>1985</td>\n",
              "      <td>ATL</td>\n",
              "      <td>NL</td>\n",
              "      <td>ceronri01</td>\n",
              "      <td>625000</td>\n",
              "    </tr>\n",
              "  </tbody>\n",
              "</table>\n",
              "</div>"
            ],
            "text/plain": [
              "   yearID teamID lgID   playerID  salary\n",
              "0    1985    ATL   NL  barkele01  870000\n",
              "1    1985    ATL   NL  bedrost01  550000\n",
              "2    1985    ATL   NL  benedbr01  545000\n",
              "3    1985    ATL   NL   campri01  633333\n",
              "4    1985    ATL   NL  ceronri01  625000"
            ]
          },
          "metadata": {
            "tags": []
          },
          "execution_count": 22
        }
      ]
    },
    {
      "cell_type": "code",
      "metadata": {
        "colab": {
          "base_uri": "https://localhost:8080/"
        },
        "id": "Wd2CNYdlvVP-",
        "outputId": "512e59ac-a827-4a67-c925-ee06b8c8efc8"
      },
      "source": [
        "#create a new column to make the number size smaller\n",
        "\n",
        "df['salary2']= (df ['salary']/100000)\n",
        "\n",
        "print(df['salary2'])"
      ],
      "execution_count": 40,
      "outputs": [
        {
          "output_type": "stream",
          "text": [
            "0          8.70000\n",
            "1          5.50000\n",
            "2          5.45000\n",
            "3          6.33333\n",
            "4          6.25000\n",
            "           ...    \n",
            "26423    104.00000\n",
            "26424      5.24000\n",
            "26425      5.24900\n",
            "26426    217.33615\n",
            "26427    140.00000\n",
            "Name: salary2, Length: 26428, dtype: float64\n"
          ],
          "name": "stdout"
        }
      ]
    },
    {
      "cell_type": "code",
      "metadata": {
        "colab": {
          "base_uri": "https://localhost:8080/",
          "height": 349
        },
        "id": "_69gQ0heo-oW",
        "outputId": "736cae8a-ac5d-425c-93d5-a26754195c93"
      },
      "source": [
        "#Density Plot (Kernel Density Estimation)   \n",
        "\n",
        "#Create three different meaningful charts using Seaborn package on your selected data set.\n",
        "hist, ax = plt.subplots()\n",
        "\n",
        "# use the distplot function from seaborn to create our plot\n",
        "\n",
        "ax = sns.distplot(df['salary2'])\n",
        "\n",
        "ax.set_title('salary Histogram with Density Plot')\n",
        "\n",
        "plt.show()"
      ],
      "execution_count": 41,
      "outputs": [
        {
          "output_type": "stream",
          "text": [
            "/usr/local/lib/python3.7/dist-packages/seaborn/distributions.py:2557: FutureWarning: `distplot` is a deprecated function and will be removed in a future version. Please adapt your code to use either `displot` (a figure-level function with similar flexibility) or `histplot` (an axes-level function for histograms).\n",
            "  warnings.warn(msg, FutureWarning)\n"
          ],
          "name": "stderr"
        },
        {
          "output_type": "display_data",
          "data": {
            "image/png": "[encoded data removed]",
            "text/plain": [
              "<Figure size 432x288 with 1 Axes>"
            ]
          },
          "metadata": {
            "tags": [],
            "needs_background": "light"
          }
        }
      ]
    },
    {
      "cell_type": "code",
      "metadata": {
        "colab": {
          "base_uri": "https://localhost:8080/",
          "height": 349
        },
        "id": "ddjfhTQ0s-ZM",
        "outputId": "eab2766b-144a-418c-e98f-50b745df0a6e"
      },
      "source": [
        "hist, ax = plt.subplots()\n",
        "\n",
        "ax = sns.distplot(df['salary2'], kde=False)\n",
        "\n",
        "ax.set_title('salary Histogram')\n",
        "\n",
        "ax.set_xlabel('salary2')\n",
        "\n",
        "ax.set_ylabel('Frequency')\n",
        "\n",
        "plt.show()"
      ],
      "execution_count": 43,
      "outputs": [
        {
          "output_type": "stream",
          "text": [
            "/usr/local/lib/python3.7/dist-packages/seaborn/distributions.py:2557: FutureWarning: `distplot` is a deprecated function and will be removed in a future version. Please adapt your code to use either `displot` (a figure-level function with similar flexibility) or `histplot` (an axes-level function for histograms).\n",
            "  warnings.warn(msg, FutureWarning)\n"
          ],
          "name": "stderr"
        },
        {
          "output_type": "display_data",
          "data": {
            "image/png": "[encoded data removed]",
            "text/plain": [
              "<Figure size 432x288 with 1 Axes>"
            ]
          },
          "metadata": {
            "tags": [],
            "needs_background": "light"
          }
        }
      ]
    },
    {
      "cell_type": "code",
      "metadata": {
        "colab": {
          "base_uri": "https://localhost:8080/",
          "height": 349
        },
        "id": "jB59nAyit0bj",
        "outputId": "cd06f9e0-a6a9-46dc-8d16-4a37de246dae"
      },
      "source": [
        "den, ax = plt.subplots()\n",
        "\n",
        "ax = sns.distplot(df['salary2'], hist=False)\n",
        "\n",
        "ax.set_title('salary Density')\n",
        "\n",
        "ax.set_xlabel('salary')\n",
        "\n",
        "ax.set_ylabel('Unit Probability')\n",
        "\n",
        "plt.show()"
      ],
      "execution_count": 44,
      "outputs": [
        {
          "output_type": "stream",
          "text": [
            "/usr/local/lib/python3.7/dist-packages/seaborn/distributions.py:2557: FutureWarning: `distplot` is a deprecated function and will be removed in a future version. Please adapt your code to use either `displot` (a figure-level function with similar flexibility) or `kdeplot` (an axes-level function for kernel density plots).\n",
            "  warnings.warn(msg, FutureWarning)\n"
          ],
          "name": "stderr"
        },
        {
          "output_type": "display_data",
          "data": {
            "image/png": "[encoded data removed]",
            "text/plain": [
              "<Figure size 432x288 with 1 Axes>"
            ]
          },
          "metadata": {
            "tags": [],
            "needs_background": "light"
          }
        }
      ]
    },
    {
      "cell_type": "code",
      "metadata": {
        "colab": {
          "base_uri": "https://localhost:8080/",
          "height": 383
        },
        "id": "P5hzR3xlxr2H",
        "outputId": "45ce6689-0eae-4252-8f2a-293a09d758db"
      },
      "source": [
        "#Rug Plot\n",
        "\n",
        "hist_den_rug, ax = plt.subplots()\n",
        "\n",
        "ax = sns.distplot(df['salary2'], rug=True)\n",
        "\n",
        "ax.set_title('Salary Histogram with Density and Rug Plot')\n",
        "\n",
        "ax.set_xlabel('salary')\n",
        "\n",
        "plt.show()"
      ],
      "execution_count": 46,
      "outputs": [
        {
          "output_type": "stream",
          "text": [
            "/usr/local/lib/python3.7/dist-packages/seaborn/distributions.py:2557: FutureWarning: `distplot` is a deprecated function and will be removed in a future version. Please adapt your code to use either `displot` (a figure-level function with similar flexibility) or `histplot` (an axes-level function for histograms).\n",
            "  warnings.warn(msg, FutureWarning)\n",
            "/usr/local/lib/python3.7/dist-packages/seaborn/distributions.py:2056: FutureWarning: The `axis` variable is no longer used and will be removed. Instead, assign variables directly to `x` or `y`.\n",
            "  warnings.warn(msg, FutureWarning)\n"
          ],
          "name": "stderr"
        },
        {
          "output_type": "display_data",
          "data": {
            "image/png": "[encoded data removed]",
            "text/plain": [
              "<Figure size 432x288 with 1 Axes>"
            ]
          },
          "metadata": {
            "tags": [],
            "needs_background": "light"
          }
        }
      ]
    },
    {
      "cell_type": "code",
      "metadata": {
        "colab": {
          "base_uri": "https://localhost:8080/",
          "height": 349
        },
        "id": "lvUU0KDWyAwL",
        "outputId": "ec510a4b-7a17-4b54-db5a-2dc1351c9299"
      },
      "source": [
        "#Count Plot (Bar Plot)\n",
        "\n",
        "count, ax = plt.subplots()\n",
        "\n",
        "ax = sns.countplot('lgID', data=df)\n",
        "\n",
        "ax.set_title('Count of League')\n",
        "\n",
        "ax.set_xlabel('League')\n",
        "\n",
        "ax.set_ylabel('Frequency')\n",
        "\n",
        "plt.show()"
      ],
      "execution_count": 53,
      "outputs": [
        {
          "output_type": "stream",
          "text": [
            "/usr/local/lib/python3.7/dist-packages/seaborn/_decorators.py:43: FutureWarning: Pass the following variable as a keyword arg: x. From version 0.12, the only valid positional argument will be `data`, and passing other arguments without an explicit keyword will result in an error or misinterpretation.\n",
            "  FutureWarning\n"
          ],
          "name": "stderr"
        },
        {
          "output_type": "display_data",
          "data": {
            "image/png": "[encoded data removed]",
            "text/plain": [
              "<Figure size 432x288 with 1 Axes>"
            ]
          },
          "metadata": {
            "tags": [],
            "needs_background": "light"
          }
        }
      ]
    },
    {
      "cell_type": "markdown",
      "metadata": {
        "id": "TNSBPMPlYI0P"
      },
      "source": [
        "#Explain when it is best to use\n",
        "I think Rug Plot is the best to use becasue it shows the distribution of the variable by using both the density plot and rug plot. On the other hand, the other two diagrams not as detailed as rug plot. "
      ]
    }
  ]
}
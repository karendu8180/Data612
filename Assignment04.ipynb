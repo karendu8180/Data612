{
  "nbformat": 4,
  "nbformat_minor": 0,
  "metadata": {
    "colab": {
      "name": "Assignment04.ipynb",
      "provenance": [],
      "include_colab_link": true
    },
    "kernelspec": {
      "name": "python3",
      "display_name": "Python 3"
    }
  },
  "cells": [
    {
      "cell_type": "markdown",
      "metadata": {
        "id": "view-in-github",
        "colab_type": "text"
      },
      "source": [
        "<a href=\"https://colab.research.google.com/github/karendu8180/Data612/blob/main/Assignment04.ipynb\" target=\"_parent\"><img src=\"https://colab.research.google.com/assets/colab-badge.svg\" alt=\"Open In Colab\"/></a>"
      ]
    },
    {
      "cell_type": "markdown",
      "metadata": {
        "id": "ieZzcgQQKck4"
      },
      "source": [
        "# Assignment for Week 4      \n",
        "(Chapter 4 & 5)"
      ]
    },
    {
      "cell_type": "markdown",
      "metadata": {
        "id": "tLuHjR9xKniP"
      },
      "source": [
        "## Purpose:         \n",
        "This assignment is intended to help you do the following:\n",
        "1.\tFamiliarize with merging datasets together\n",
        "2.\tLearn how to identify missing data from a dataset\n",
        "3.\tHandle the missing data from the dataset\n"
      ]
    },
    {
      "cell_type": "markdown",
      "metadata": {
        "id": "GeOmQFNKK4Nm"
      },
      "source": [
        "## Action Items:\n",
        "•\tMerge other data to your selected data set.    \n",
        "1. Find another data set, series, text data or a column from another data source and merge with your selected data set.      \n",
        "2. Identify the missing values on your data set. Count the missing values on your data set and then clean your data set from the missing values.       \n",
        "3. Post your work on GitHub     \n",
        "4. Add a README\n"
      ]
    },
    {
      "cell_type": "markdown",
      "metadata": {
        "id": "fYzXU3IK8Wx4"
      },
      "source": [
        ""
      ]
    },
    {
      "cell_type": "code",
      "metadata": {
        "id": "GvxeKpRR8YWJ"
      },
      "source": [
        " #Find another data set, series, text data or a column from another data source and merge with your selected data set.\n",
        "\n",
        "from numpy import NaN, NAN, nan\n",
        "import pandas as pd\n",
        "\n",
        " data1= pd.read_csv ('https://raw.githubusercontent.com/frankData612/data_612/master/baseballdatabank-master/core/AwardsManagers.csv')\n",
        " data2= pd.read_csv ('https://raw.githubusercontent.com/frankData612/data_612/master/baseballdatabank-master/core/AwardsShareManagers.csv')\n",
        " "
      ],
      "execution_count": null,
      "outputs": []
    },
    {
      "cell_type": "code",
      "metadata": {
        "id": "MBkv-6TZp0mg",
        "outputId": "addace0f-52d4-42c1-ab7a-481205e99cd5",
        "colab": {
          "base_uri": "https://localhost:8080/"
        }
      },
      "source": [
        "print(data1)"
      ],
      "execution_count": 3,
      "outputs": [
        {
          "output_type": "stream",
          "text": [
            "      playerID                    awardID  yearID lgID  tie notes\n",
            "0    larusto01  BBWAA Manager of the Year    1983   AL  NaN   NaN\n",
            "1    lasorto01  BBWAA Manager of the Year    1983   NL  NaN   NaN\n",
            "2    andersp01  BBWAA Manager of the Year    1984   AL  NaN   NaN\n",
            "3     freyji99  BBWAA Manager of the Year    1984   NL  NaN   NaN\n",
            "4      coxbo01  BBWAA Manager of the Year    1985   AL  NaN   NaN\n",
            "..         ...                        ...     ...  ...  ...   ...\n",
            "174  willima04  BBWAA Manager of the Year    2014   NL  NaN   NaN\n",
            "175  banisje01  BBWAA Manager of the Year    2015   AL  NaN   NaN\n",
            "176  maddojo99  BBWAA Manager of the Year    2015   NL  NaN   NaN\n",
            "177  francte01  BBWAA Manager of the Year    2016   AL  NaN    \\t\n",
            "178  roberda07  BBWAA Manager of the Year    2016   NL  NaN   NaN\n",
            "\n",
            "[179 rows x 6 columns]\n"
          ],
          "name": "stdout"
        }
      ]
    },
    {
      "cell_type": "code",
      "metadata": {
        "id": "cxPwpHXwp_hK",
        "outputId": "d61be6cd-ddfb-4c0e-bc4c-e2450036faf3",
        "colab": {
          "base_uri": "https://localhost:8080/"
        }
      },
      "source": [
        "print(data2)"
      ],
      "execution_count": 4,
      "outputs": [
        {
          "output_type": "stream",
          "text": [
            "                       awardID  yearID lgID  ... pointsWon  pointsMax  votesFirst\n",
            "0    BBWAA Manager of the Year    1983   AL  ...         7       28.0           7\n",
            "1    BBWAA Manager of the Year    1983   AL  ...         4       28.0           4\n",
            "2    BBWAA Manager of the Year    1983   AL  ...        17       28.0          17\n",
            "3    BBWAA Manager of the Year    1983   NL  ...        10       24.0          10\n",
            "4    BBWAA Manager of the Year    1983   NL  ...         9       24.0           9\n",
            "..                         ...     ...  ...  ...       ...        ...         ...\n",
            "420  BBWAA Manager of the Year    2016   NL  ...       108        NaN          16\n",
            "421  BBWAA Manager of the Year    2016   NL  ...        70        NaN           8\n",
            "422  BBWAA Manager of the Year    2016   NL  ...        66        NaN           4\n",
            "423  BBWAA Manager of the Year    2016   NL  ...        24        NaN           2\n",
            "424  BBWAA Manager of the Year    2016   NL  ...         2        NaN           0\n",
            "\n",
            "[425 rows x 7 columns]\n"
          ],
          "name": "stdout"
        }
      ]
    },
    {
      "cell_type": "code",
      "metadata": {
        "id": "lTI0AC1WqCNW",
        "outputId": "ba9889ef-76de-4cf7-b0c0-d833df31dc7a",
        "colab": {
          "base_uri": "https://localhost:8080/"
        }
      },
      "source": [
        "data12= data1.merge(data2, left_on='awardID', right_on='awardID')\n",
        "print(data12)"
      ],
      "execution_count": 15,
      "outputs": [
        {
          "output_type": "stream",
          "text": [
            "      playerID_x                    awardID  ...  pointsMax votesFirst\n",
            "0      larusto01  BBWAA Manager of the Year  ...       28.0          7\n",
            "1      larusto01  BBWAA Manager of the Year  ...       28.0          4\n",
            "2      larusto01  BBWAA Manager of the Year  ...       28.0         17\n",
            "3      larusto01  BBWAA Manager of the Year  ...       24.0         10\n",
            "4      larusto01  BBWAA Manager of the Year  ...       24.0          9\n",
            "...          ...                        ...  ...        ...        ...\n",
            "29320  roberda07  BBWAA Manager of the Year  ...        NaN         16\n",
            "29321  roberda07  BBWAA Manager of the Year  ...        NaN          8\n",
            "29322  roberda07  BBWAA Manager of the Year  ...        NaN          4\n",
            "29323  roberda07  BBWAA Manager of the Year  ...        NaN          2\n",
            "29324  roberda07  BBWAA Manager of the Year  ...        NaN          0\n",
            "\n",
            "[29325 rows x 12 columns]\n"
          ],
          "name": "stdout"
        }
      ]
    },
    {
      "cell_type": "code",
      "metadata": {
        "id": "TGaPYf8pnEVA"
      },
      "source": [
        "#Identify the missing values on your data set. Count the missing values on your data set and then clean your data set from the missing values.\n",
        "\n",
        "print(data12.count())"
      ],
      "execution_count": null,
      "outputs": []
    },
    {
      "cell_type": "code",
      "metadata": {
        "id": "VmLanYStr1qz",
        "outputId": "2320ab1a-4efb-41c9-fa23-0a59f39d4f06",
        "colab": {
          "base_uri": "https://localhost:8080/"
        }
      },
      "source": [
        "data12.shape#total of 12 columns after merging those two data"
      ],
      "execution_count": 12,
      "outputs": [
        {
          "output_type": "execute_result",
          "data": {
            "text/plain": [
              "(29325, 12)"
            ]
          },
          "metadata": {
            "tags": []
          },
          "execution_count": 12
        }
      ]
    },
    {
      "cell_type": "code",
      "metadata": {
        "id": "9bYg-Ai2r6nu",
        "outputId": "26c40cba-036b-4c9d-ebfb-25c650668aa0",
        "colab": {
          "base_uri": "https://localhost:8080/"
        }
      },
      "source": [
        "num_rows = data12.shape[0]\n",
        "\n",
        "num_missing = num_rows - data12.count()\n",
        "\n",
        "print(num_missing)"
      ],
      "execution_count": 13,
      "outputs": [
        {
          "output_type": "stream",
          "text": [
            "playerID_x        0\n",
            "awardID           0\n",
            "yearID_x          0\n",
            "lgID_x            0\n",
            "tie           28475\n",
            "notes         28900\n",
            "yearID_y          0\n",
            "lgID_y            0\n",
            "playerID_y        0\n",
            "pointsWon         0\n",
            "pointsMax       759\n",
            "votesFirst        0\n",
            "dtype: int64\n"
          ],
          "name": "stdout"
        }
      ]
    },
    {
      "cell_type": "code",
      "metadata": {
        "id": "_Bi_gGI9spLC",
        "outputId": "f976b8c6-57b0-4871-db5a-0230e606a2a1",
        "colab": {
          "base_uri": "https://localhost:8080/"
        }
      },
      "source": [
        "import numpy as np\n",
        "\n",
        "print(np.count_nonzero(data12.isnull()))"
      ],
      "execution_count": 17,
      "outputs": [
        {
          "output_type": "stream",
          "text": [
            "58134\n"
          ],
          "name": "stdout"
        }
      ]
    },
    {
      "cell_type": "code",
      "metadata": {
        "id": "WX0y1OHduHDy",
        "outputId": "49306d42-ffa4-4017-d027-6e9097f7e4f1",
        "colab": {
          "base_uri": "https://localhost:8080/"
        }
      },
      "source": [
        "#replace all missing values as 0\n",
        "print(data12.fillna(0).iloc[0:29325, 0:12]) "
      ],
      "execution_count": 25,
      "outputs": [
        {
          "output_type": "stream",
          "text": [
            "      playerID_x                    awardID  ...  pointsMax votesFirst\n",
            "0      larusto01  BBWAA Manager of the Year  ...       28.0          7\n",
            "1      larusto01  BBWAA Manager of the Year  ...       28.0          4\n",
            "2      larusto01  BBWAA Manager of the Year  ...       28.0         17\n",
            "3      larusto01  BBWAA Manager of the Year  ...       24.0         10\n",
            "4      larusto01  BBWAA Manager of the Year  ...       24.0          9\n",
            "...          ...                        ...  ...        ...        ...\n",
            "29320  roberda07  BBWAA Manager of the Year  ...        0.0         16\n",
            "29321  roberda07  BBWAA Manager of the Year  ...        0.0          8\n",
            "29322  roberda07  BBWAA Manager of the Year  ...        0.0          4\n",
            "29323  roberda07  BBWAA Manager of the Year  ...        0.0          2\n",
            "29324  roberda07  BBWAA Manager of the Year  ...        0.0          0\n",
            "\n",
            "[29325 rows x 12 columns]\n"
          ],
          "name": "stdout"
        }
      ]
    },
    {
      "cell_type": "code",
      "metadata": {
        "id": "66rugel6vDHH",
        "outputId": "c953f55c-1d26-40bc-ccf1-a280034c3023",
        "colab": {
          "base_uri": "https://localhost:8080/"
        }
      },
      "source": [
        "#or just simply drop columns (\"tie\" and \"notes\") since these two columns are full with \"NaN\"\n",
        "\n",
        "new = data12.drop(labels=[\"tie\",\"notes\"],axis=1)\n",
        "\n",
        "print(new)#I dropped 2 columns, so I have a total of 10 columns now"
      ],
      "execution_count": 34,
      "outputs": [
        {
          "output_type": "stream",
          "text": [
            "      playerID_x                    awardID  ...  pointsMax votesFirst\n",
            "0      larusto01  BBWAA Manager of the Year  ...       28.0          7\n",
            "1      larusto01  BBWAA Manager of the Year  ...       28.0          4\n",
            "2      larusto01  BBWAA Manager of the Year  ...       28.0         17\n",
            "3      larusto01  BBWAA Manager of the Year  ...       24.0         10\n",
            "4      larusto01  BBWAA Manager of the Year  ...       24.0          9\n",
            "...          ...                        ...  ...        ...        ...\n",
            "29320  roberda07  BBWAA Manager of the Year  ...        NaN         16\n",
            "29321  roberda07  BBWAA Manager of the Year  ...        NaN          8\n",
            "29322  roberda07  BBWAA Manager of the Year  ...        NaN          4\n",
            "29323  roberda07  BBWAA Manager of the Year  ...        NaN          2\n",
            "29324  roberda07  BBWAA Manager of the Year  ...        NaN          0\n",
            "\n",
            "[29325 rows x 10 columns]\n"
          ],
          "name": "stdout"
        }
      ]
    }
  ]
}
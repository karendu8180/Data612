{
  "nbformat": 4,
  "nbformat_minor": 0,
  "metadata": {
    "colab": {
      "name": "Data612 HW1.ipynb",
      "provenance": [],
      "authorship_tag": "ABX9TyMIijZRx64c7uzbBflXmjaf",
      "include_colab_link": true
    },
    "kernelspec": {
      "name": "python3",
      "display_name": "Python 3"
    },
    "language_info": {
      "name": "python"
    }
  },
  "cells": [
    {
      "cell_type": "markdown",
      "metadata": {
        "id": "view-in-github",
        "colab_type": "text"
      },
      "source": [
        "<a href=\"https://colab.research.google.com/github/karendu8180/Data612/blob/main/Data612_HW1.ipynb\" target=\"_parent\"><img src=\"https://colab.research.google.com/assets/colab-badge.svg\" alt=\"Open In Colab\"/></a>"
      ]
    },
    {
      "cell_type": "code",
      "metadata": {
        "colab": {
          "base_uri": "https://localhost:8080/"
        },
        "id": "vwukLYC2z92E",
        "outputId": "1895e50e-6bfb-4865-dfcf-57c41a0fbd4b"
      },
      "source": [
        "import pandas as pand \n",
        "df = pand.read_csv ('https://raw.githubusercontent.com/frankData612/data_612/master/stock_data/stocks_yahoo.csv')"
      ],
      "execution_count": null,
      "outputs": [
        {
          "output_type": "stream",
          "text": [
            "/usr/local/lib/python3.7/dist-packages/IPython/core/interactiveshell.py:2718: DtypeWarning: Columns (10) have mixed types.Specify dtype option on import or set low_memory=False.\n",
            "  interactivity=interactivity, compiler=compiler, result=result)\n"
          ],
          "name": "stderr"
        }
      ]
    },
    {
      "cell_type": "code",
      "metadata": {
        "id": "URRuZAF02MOu"
      },
      "source": [
        "#Show the .head() and .tail() of the data set. Specify the number of rows to print using .head() and .tail().\n",
        "df.head(100)"
      ],
      "execution_count": null,
      "outputs": []
    },
    {
      "cell_type": "code",
      "metadata": {
        "colab": {
          "base_uri": "https://localhost:8080/",
          "height": 813
        },
        "id": "nQxa151Q1nr7",
        "outputId": "c5a7c05e-af23-4c2d-ef0e-a79ef53b46f8"
      },
      "source": [
        "df.tail(100)"
      ],
      "execution_count": null,
      "outputs": [
        {
          "output_type": "execute_result",
          "data": {
            "text/html": [
              "<div>\n",
              "<style scoped>\n",
              "    .dataframe tbody tr th:only-of-type {\n",
              "        vertical-align: middle;\n",
              "    }\n",
              "\n",
              "    .dataframe tbody tr th {\n",
              "        vertical-align: top;\n",
              "    }\n",
              "\n",
              "    .dataframe thead th {\n",
              "        text-align: right;\n",
              "    }\n",
              "</style>\n",
              "<table border=\"1\" class=\"dataframe\">\n",
              "  <thead>\n",
              "    <tr style=\"text-align: right;\">\n",
              "      <th></th>\n",
              "      <th>no</th>\n",
              "      <th>date</th>\n",
              "      <th>company_name</th>\n",
              "      <th>price_at_close</th>\n",
              "      <th>price_change</th>\n",
              "      <th>price_after_hours</th>\n",
              "      <th>previous_close</th>\n",
              "      <th>today opened</th>\n",
              "      <th>price range</th>\n",
              "      <th>52 week range</th>\n",
              "      <th>volume</th>\n",
              "      <th>average volume</th>\n",
              "      <th>market cap</th>\n",
              "      <th>beta (3Y Monthly)</th>\n",
              "      <th>PE Ratio</th>\n",
              "      <th>EPS</th>\n",
              "      <th>earnings date</th>\n",
              "      <th>Dividend Yield</th>\n",
              "      <th>1Y target est</th>\n",
              "    </tr>\n",
              "  </thead>\n",
              "  <tbody>\n",
              "    <tr>\n",
              "      <th>67805</th>\n",
              "      <td>67806</td>\n",
              "      <td>Apr 28 2020</td>\n",
              "      <td>CIEN - Ciena Corporation</td>\n",
              "      <td>46.99</td>\n",
              "      <td>-1.93 (-3.95%)</td>\n",
              "      <td>46.99</td>\n",
              "      <td>48.92</td>\n",
              "      <td>49.19</td>\n",
              "      <td>46.93 - 49.91</td>\n",
              "      <td>30.58 - 49.91</td>\n",
              "      <td>2375335.00</td>\n",
              "      <td>2210163.0</td>\n",
              "      <td>7.213B</td>\n",
              "      <td>0.79</td>\n",
              "      <td>26.09</td>\n",
              "      <td>1.80</td>\n",
              "      <td>Jun 04, 2020 - Jun 08, 2020</td>\n",
              "      <td>N/A (N/A)</td>\n",
              "      <td>49.88</td>\n",
              "    </tr>\n",
              "    <tr>\n",
              "      <th>67806</th>\n",
              "      <td>67807</td>\n",
              "      <td>Apr 28 2020</td>\n",
              "      <td>AMRX - Amneal Pharmaceuticals, Inc.</td>\n",
              "      <td>3.63</td>\n",
              "      <td>+0.1000 (+2.83%)</td>\n",
              "      <td>3.63</td>\n",
              "      <td>3.53</td>\n",
              "      <td>3.60</td>\n",
              "      <td>3.4500 - 3.7200</td>\n",
              "      <td>2.2700 - 14.3000</td>\n",
              "      <td>1242874.00</td>\n",
              "      <td>1882580.0</td>\n",
              "      <td>1.13B</td>\n",
              "      <td>NaN</td>\n",
              "      <td>NaN</td>\n",
              "      <td>-2.74</td>\n",
              "      <td>11-May-20</td>\n",
              "      <td>N/A (N/A)</td>\n",
              "      <td>3.78</td>\n",
              "    </tr>\n",
              "    <tr>\n",
              "      <th>67807</th>\n",
              "      <td>67808</td>\n",
              "      <td>Apr 28 2020</td>\n",
              "      <td>NTRA - Natera, Inc.</td>\n",
              "      <td>36.39</td>\n",
              "      <td>-1.05 (-2.80%)</td>\n",
              "      <td>36.39</td>\n",
              "      <td>37.44</td>\n",
              "      <td>37.81</td>\n",
              "      <td>36.25 - 37.81</td>\n",
              "      <td>16.87 - 41.80</td>\n",
              "      <td>427213.00</td>\n",
              "      <td>1080753.0</td>\n",
              "      <td>2.862B</td>\n",
              "      <td>1.26</td>\n",
              "      <td>NaN</td>\n",
              "      <td>-1.79</td>\n",
              "      <td>26-Feb-20</td>\n",
              "      <td>N/A (N/A)</td>\n",
              "      <td>42.67</td>\n",
              "    </tr>\n",
              "    <tr>\n",
              "      <th>67808</th>\n",
              "      <td>67809</td>\n",
              "      <td>Apr 28 2020</td>\n",
              "      <td>TXG - 10x Genomics, Inc.</td>\n",
              "      <td>76.26</td>\n",
              "      <td>+0.07 (+0.09%)</td>\n",
              "      <td>76.26</td>\n",
              "      <td>76.19</td>\n",
              "      <td>76.72</td>\n",
              "      <td>75.31 - 77.43</td>\n",
              "      <td>45.11 - 108.36</td>\n",
              "      <td>521346.00</td>\n",
              "      <td>555223.0</td>\n",
              "      <td>7.363B</td>\n",
              "      <td>NaN</td>\n",
              "      <td>NaN</td>\n",
              "      <td>-5.41</td>\n",
              "      <td>11-May-20</td>\n",
              "      <td>N/A (N/A)</td>\n",
              "      <td>84.20</td>\n",
              "    </tr>\n",
              "    <tr>\n",
              "      <th>67809</th>\n",
              "      <td>67810</td>\n",
              "      <td>Apr 28 2020</td>\n",
              "      <td>MDLA - Medallia, Inc.</td>\n",
              "      <td>20.98</td>\n",
              "      <td>-1.01 (-4.59%)</td>\n",
              "      <td>20.98</td>\n",
              "      <td>21.99</td>\n",
              "      <td>22.37</td>\n",
              "      <td>20.51 - 22.66</td>\n",
              "      <td>16.04 - 44.72</td>\n",
              "      <td>951058.00</td>\n",
              "      <td>1781922.0</td>\n",
              "      <td>2.899B</td>\n",
              "      <td>NaN</td>\n",
              "      <td>NaN</td>\n",
              "      <td>-1.56</td>\n",
              "      <td>Jun 10, 2020 - Jun 17, 2020</td>\n",
              "      <td>N/A (N/A)</td>\n",
              "      <td>30.82</td>\n",
              "    </tr>\n",
              "    <tr>\n",
              "      <th>...</th>\n",
              "      <td>...</td>\n",
              "      <td>...</td>\n",
              "      <td>...</td>\n",
              "      <td>...</td>\n",
              "      <td>...</td>\n",
              "      <td>...</td>\n",
              "      <td>...</td>\n",
              "      <td>...</td>\n",
              "      <td>...</td>\n",
              "      <td>...</td>\n",
              "      <td>...</td>\n",
              "      <td>...</td>\n",
              "      <td>...</td>\n",
              "      <td>...</td>\n",
              "      <td>...</td>\n",
              "      <td>...</td>\n",
              "      <td>...</td>\n",
              "      <td>...</td>\n",
              "      <td>...</td>\n",
              "    </tr>\n",
              "    <tr>\n",
              "      <th>67900</th>\n",
              "      <td>67901</td>\n",
              "      <td>Apr 28 2020</td>\n",
              "      <td>FLEX - Flex Ltd.</td>\n",
              "      <td>9.11</td>\n",
              "      <td>+0.30 (+3.41%)</td>\n",
              "      <td>9.11</td>\n",
              "      <td>8.81</td>\n",
              "      <td>9.11</td>\n",
              "      <td>8.87 - 9.31</td>\n",
              "      <td>5.36 - 14.00</td>\n",
              "      <td>4175426.00</td>\n",
              "      <td>5924769.0</td>\n",
              "      <td>4.591B</td>\n",
              "      <td>1.88</td>\n",
              "      <td>NaN</td>\n",
              "      <td>-0.05</td>\n",
              "      <td>7-May-20</td>\n",
              "      <td>N/A (N/A)</td>\n",
              "      <td>12.83</td>\n",
              "    </tr>\n",
              "    <tr>\n",
              "      <th>67901</th>\n",
              "      <td>67902</td>\n",
              "      <td>Apr 28 2020</td>\n",
              "      <td>MEI - Methode Electronics, Inc.</td>\n",
              "      <td>29.84</td>\n",
              "      <td>+0.32 (+1.08%)</td>\n",
              "      <td>29.84</td>\n",
              "      <td>29.52</td>\n",
              "      <td>30.19</td>\n",
              "      <td>29.70 - 30.75</td>\n",
              "      <td>21.76 - 41.70</td>\n",
              "      <td>206184.00</td>\n",
              "      <td>236257.0</td>\n",
              "      <td>1.107B</td>\n",
              "      <td>1.43</td>\n",
              "      <td>9.72</td>\n",
              "      <td>3.07</td>\n",
              "      <td>Jun 18, 2020 - Jun 22, 2020</td>\n",
              "      <td>0.44 (1.49%)</td>\n",
              "      <td>33.33</td>\n",
              "    </tr>\n",
              "    <tr>\n",
              "      <th>67902</th>\n",
              "      <td>67903</td>\n",
              "      <td>Apr 28 2020</td>\n",
              "      <td>IEC - IEC Electronics Corp.</td>\n",
              "      <td>7.01</td>\n",
              "      <td>0.00 (0.00%)</td>\n",
              "      <td>7.01</td>\n",
              "      <td>7.01</td>\n",
              "      <td>7.10</td>\n",
              "      <td>6.93 - 7.10</td>\n",
              "      <td>5.00 - 9.57</td>\n",
              "      <td>3880.00</td>\n",
              "      <td>34352.0</td>\n",
              "      <td>72.812M</td>\n",
              "      <td>0.94</td>\n",
              "      <td>15.24</td>\n",
              "      <td>0.46</td>\n",
              "      <td>6-May-20</td>\n",
              "      <td>N/A (N/A)</td>\n",
              "      <td>11.50</td>\n",
              "    </tr>\n",
              "    <tr>\n",
              "      <th>67903</th>\n",
              "      <td>67904</td>\n",
              "      <td>Apr 28 2020</td>\n",
              "      <td>MGLN - Magellan Health, Inc.</td>\n",
              "      <td>55.11</td>\n",
              "      <td>-0.03 (-0.05%)</td>\n",
              "      <td>55.11</td>\n",
              "      <td>55.14</td>\n",
              "      <td>54.74</td>\n",
              "      <td>53.28 - 56.21</td>\n",
              "      <td>30.60 - 81.04</td>\n",
              "      <td>167075.00</td>\n",
              "      <td>193042.0</td>\n",
              "      <td>1.361B</td>\n",
              "      <td>0.97</td>\n",
              "      <td>24.17</td>\n",
              "      <td>2.28</td>\n",
              "      <td>11-May-20</td>\n",
              "      <td>N/A (N/A)</td>\n",
              "      <td>67.67</td>\n",
              "    </tr>\n",
              "    <tr>\n",
              "      <th>67904</th>\n",
              "      <td>67905</td>\n",
              "      <td>Apr 28 2020</td>\n",
              "      <td>ZS - Zscaler, Inc.</td>\n",
              "      <td>66.72</td>\n",
              "      <td>-3.75 (-5.32%)</td>\n",
              "      <td>66.72</td>\n",
              "      <td>70.47</td>\n",
              "      <td>71.00</td>\n",
              "      <td>66.26 - 71.20</td>\n",
              "      <td>35.00 - 89.54</td>\n",
              "      <td>3035697.00</td>\n",
              "      <td>3062403.0</td>\n",
              "      <td>8.63B</td>\n",
              "      <td>0.54</td>\n",
              "      <td>NaN</td>\n",
              "      <td>-0.50</td>\n",
              "      <td>20-Feb-20</td>\n",
              "      <td>N/A (N/A)</td>\n",
              "      <td>67.62</td>\n",
              "    </tr>\n",
              "  </tbody>\n",
              "</table>\n",
              "<p>100 rows × 19 columns</p>\n",
              "</div>"
            ],
            "text/plain": [
              "          no         date  ... Dividend Yield  1Y target est\n",
              "67805  67806  Apr 28 2020  ...      N/A (N/A)          49.88\n",
              "67806  67807  Apr 28 2020  ...      N/A (N/A)           3.78\n",
              "67807  67808  Apr 28 2020  ...      N/A (N/A)          42.67\n",
              "67808  67809  Apr 28 2020  ...      N/A (N/A)          84.20\n",
              "67809  67810  Apr 28 2020  ...      N/A (N/A)          30.82\n",
              "...      ...          ...  ...            ...            ...\n",
              "67900  67901  Apr 28 2020  ...      N/A (N/A)          12.83\n",
              "67901  67902  Apr 28 2020  ...   0.44 (1.49%)          33.33\n",
              "67902  67903  Apr 28 2020  ...      N/A (N/A)          11.50\n",
              "67903  67904  Apr 28 2020  ...      N/A (N/A)          67.67\n",
              "67904  67905  Apr 28 2020  ...      N/A (N/A)          67.62\n",
              "\n",
              "[100 rows x 19 columns]"
            ]
          },
          "metadata": {
            "tags": []
          },
          "execution_count": 33
        }
      ]
    },
    {
      "cell_type": "code",
      "metadata": {
        "colab": {
          "base_uri": "https://localhost:8080/"
        },
        "id": "qkae0QMw1vuG",
        "outputId": "7afc9e5e-4315-4f81-a44a-933eea860861"
      },
      "source": [
        "#Print the column names.\n",
        "df.columns"
      ],
      "execution_count": null,
      "outputs": [
        {
          "output_type": "execute_result",
          "data": {
            "text/plain": [
              "Index(['no', 'date', 'company_name', 'price_at_close', 'price_change',\n",
              "       'price_after_hours', 'previous_close', 'today opened', 'price range',\n",
              "       '52 week range', 'volume', 'average volume', 'market cap',\n",
              "       'beta (3Y Monthly)', 'PE Ratio', 'EPS', 'earnings date',\n",
              "       'Dividend Yield', '1Y target est'],\n",
              "      dtype='object')"
            ]
          },
          "metadata": {
            "tags": []
          },
          "execution_count": 34
        }
      ]
    },
    {
      "cell_type": "code",
      "metadata": {
        "colab": {
          "base_uri": "https://localhost:8080/"
        },
        "id": "v1m02u-f18uy",
        "outputId": "b67dc7a7-5a0b-438f-e4c6-a44af65d4fd3"
      },
      "source": [
        "#Print to see what is the type of your data set\n",
        "df.dtypes"
      ],
      "execution_count": null,
      "outputs": [
        {
          "output_type": "execute_result",
          "data": {
            "text/plain": [
              "no                     int64\n",
              "date                  object\n",
              "company_name          object\n",
              "price_at_close       float64\n",
              "price_change          object\n",
              "price_after_hours    float64\n",
              "previous_close       float64\n",
              "today opened         float64\n",
              "price range           object\n",
              "52 week range         object\n",
              "volume                object\n",
              "average volume       float64\n",
              "market cap            object\n",
              "beta (3Y Monthly)    float64\n",
              "PE Ratio             float64\n",
              "EPS                  float64\n",
              "earnings date         object\n",
              "Dividend Yield        object\n",
              "1Y target est        float64\n",
              "dtype: object"
            ]
          },
          "metadata": {
            "tags": []
          },
          "execution_count": 35
        }
      ]
    },
    {
      "cell_type": "code",
      "metadata": {
        "colab": {
          "base_uri": "https://localhost:8080/"
        },
        "id": "YSacI4W51_G7",
        "outputId": "5eacb032-f710-4b73-9b88-d8074238bd55"
      },
      "source": [
        "#Check number of rows and columns.\n",
        "df.shape"
      ],
      "execution_count": null,
      "outputs": [
        {
          "output_type": "execute_result",
          "data": {
            "text/plain": [
              "(67905, 19)"
            ]
          },
          "metadata": {
            "tags": []
          },
          "execution_count": 36
        }
      ]
    },
    {
      "cell_type": "code",
      "metadata": {
        "colab": {
          "base_uri": "https://localhost:8080/"
        },
        "id": "5As4NTHh2AXO",
        "outputId": "8edc2222-bd99-4aa2-92af-f480606e0f7d"
      },
      "source": [
        "#Use groupby() and find the mean on your selected colum/s.\n",
        "df.groupby(['date','company_name'])['average volume'].mean()\n"
      ],
      "execution_count": null,
      "outputs": [
        {
          "output_type": "execute_result",
          "data": {
            "text/plain": [
              "date         company_name                         \n",
              "Apr 01 2020  A - Agilent Technologies, Inc.            2473980.0\n",
              "             AAL - American Airlines Group Inc.       28934614.0\n",
              "             AAP - Advance Auto Parts, Inc.            1199779.0\n",
              "             AAPL - Apple Inc.                        49330169.0\n",
              "             ABB - ABB Ltd                             2507430.0\n",
              "                                                         ...    \n",
              "Nov 25 2019  XOM - Exxon Mobil Corporation            11007175.0\n",
              "             XRX - Xerox Holdings Corporation          2178231.0\n",
              "             YASKY - YASKAWA Electric Corporation         8804.0\n",
              "             ZBRA - Zebra Technologies Corporation      414248.0\n",
              "             ZTS - Zoetis Inc.                         2101576.0\n",
              "Name: average volume, Length: 67898, dtype: float64"
            ]
          },
          "metadata": {
            "tags": []
          },
          "execution_count": 37
        }
      ]
    },
    {
      "cell_type": "code",
      "metadata": {
        "id": "81LyAIHn2FkG"
      },
      "source": [
        "#Add a README file in GitHub where you explain everything you did.\n",
        "\n"
      ],
      "execution_count": null,
      "outputs": []
    }
  ]
}
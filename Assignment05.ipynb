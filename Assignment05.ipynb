{
  "nbformat": 4,
  "nbformat_minor": 0,
  "metadata": {
    "colab": {
      "name": "Assignment05.ipynb",
      "provenance": [],
      "collapsed_sections": [],
      "include_colab_link": true
    },
    "kernelspec": {
      "name": "python3",
      "display_name": "Python 3"
    }
  },
  "cells": [
    {
      "cell_type": "markdown",
      "metadata": {
        "id": "view-in-github",
        "colab_type": "text"
      },
      "source": [
        "<a href=\"https://colab.research.google.com/github/karendu8180/Data612/blob/main/Assignment05.ipynb\" target=\"_parent\"><img src=\"https://colab.research.google.com/assets/colab-badge.svg\" alt=\"Open In Colab\"/></a>"
      ]
    },
    {
      "cell_type": "markdown",
      "metadata": {
        "id": "PVPwSURJLrm5"
      },
      "source": [
        "# Assignment for Week 5      \n",
        "(Chapter 6 & 7)"
      ]
    },
    {
      "cell_type": "markdown",
      "metadata": {
        "id": "oxOFlqNrMDvt"
      },
      "source": [
        "## Purpose:\n",
        "This assignment is intended to help you do the following:       \n",
        "1.\tDifferentiate between categorical and non-categorical variables\n",
        "2.\tConvert variables from one type to another\n",
        "3.\tFamiliarize with strings\n"
      ]
    },
    {
      "cell_type": "markdown",
      "metadata": {
        "id": "rzBeh3W4MEzh"
      },
      "source": [
        "## Action Items:      \n",
        "•\tConvert data\n",
        "1. Work on your selected data set and covert a column of non-categorical type into a categorical type. \n",
        "2. Convert another column into a string type. \n",
        "3. Post your work on GitHub\n",
        "4. Add a README file\n"
      ]
    },
    {
      "cell_type": "code",
      "metadata": {
        "id": "LTWN9z0TuVLK",
        "outputId": "9daaf98d-407f-4359-92f4-420e93f03540",
        "colab": {
          "base_uri": "https://localhost:8080/",
          "height": 419
        }
      },
      "source": [
        "#Work on your selected data set and covert a column of non-categorical type into a categorical type.\n",
        "\n",
        "import pandas as pd\n",
        "\n",
        "df= pd.read_csv ('https://raw.githubusercontent.com/frankData612/data_612/master/baseballdatabank-master/core/AllstarFull.csv')\n",
        "df"
      ],
      "execution_count": 19,
      "outputs": [
        {
          "output_type": "execute_result",
          "data": {
            "text/html": [
              "<div>\n",
              "<style scoped>\n",
              "    .dataframe tbody tr th:only-of-type {\n",
              "        vertical-align: middle;\n",
              "    }\n",
              "\n",
              "    .dataframe tbody tr th {\n",
              "        vertical-align: top;\n",
              "    }\n",
              "\n",
              "    .dataframe thead th {\n",
              "        text-align: right;\n",
              "    }\n",
              "</style>\n",
              "<table border=\"1\" class=\"dataframe\">\n",
              "  <thead>\n",
              "    <tr style=\"text-align: right;\">\n",
              "      <th></th>\n",
              "      <th>playerID</th>\n",
              "      <th>yearID</th>\n",
              "      <th>gameNum</th>\n",
              "      <th>gameID</th>\n",
              "      <th>teamID</th>\n",
              "      <th>lgID</th>\n",
              "      <th>GP</th>\n",
              "      <th>startingPos</th>\n",
              "    </tr>\n",
              "  </thead>\n",
              "  <tbody>\n",
              "    <tr>\n",
              "      <th>0</th>\n",
              "      <td>gomezle01</td>\n",
              "      <td>1933.0</td>\n",
              "      <td>0.0</td>\n",
              "      <td>ALS193307060</td>\n",
              "      <td>NYA</td>\n",
              "      <td>AL</td>\n",
              "      <td>1</td>\n",
              "      <td>1.0</td>\n",
              "    </tr>\n",
              "    <tr>\n",
              "      <th>1</th>\n",
              "      <td>ferreri01</td>\n",
              "      <td>1933.0</td>\n",
              "      <td>0.0</td>\n",
              "      <td>ALS193307060</td>\n",
              "      <td>BOS</td>\n",
              "      <td>AL</td>\n",
              "      <td>1</td>\n",
              "      <td>2.0</td>\n",
              "    </tr>\n",
              "    <tr>\n",
              "      <th>2</th>\n",
              "      <td>gehrilo01</td>\n",
              "      <td>1933.0</td>\n",
              "      <td>0.0</td>\n",
              "      <td>ALS193307060</td>\n",
              "      <td>NYA</td>\n",
              "      <td>AL</td>\n",
              "      <td>1</td>\n",
              "      <td>3.0</td>\n",
              "    </tr>\n",
              "    <tr>\n",
              "      <th>3</th>\n",
              "      <td>gehrich01</td>\n",
              "      <td>1933.0</td>\n",
              "      <td>0.0</td>\n",
              "      <td>ALS193307060</td>\n",
              "      <td>DET</td>\n",
              "      <td>AL</td>\n",
              "      <td>1</td>\n",
              "      <td>4.0</td>\n",
              "    </tr>\n",
              "    <tr>\n",
              "      <th>4</th>\n",
              "      <td>dykesji01</td>\n",
              "      <td>1933.0</td>\n",
              "      <td>0.0</td>\n",
              "      <td>ALS193307060</td>\n",
              "      <td>CHA</td>\n",
              "      <td>AL</td>\n",
              "      <td>1</td>\n",
              "      <td>5.0</td>\n",
              "    </tr>\n",
              "    <tr>\n",
              "      <th>...</th>\n",
              "      <td>...</td>\n",
              "      <td>...</td>\n",
              "      <td>...</td>\n",
              "      <td>...</td>\n",
              "      <td>...</td>\n",
              "      <td>...</td>\n",
              "      <td>...</td>\n",
              "      <td>...</td>\n",
              "    </tr>\n",
              "    <tr>\n",
              "      <th>5370</th>\n",
              "      <td>sorokmi01</td>\n",
              "      <td>2019.0</td>\n",
              "      <td>0.0</td>\n",
              "      <td>ALS201907090</td>\n",
              "      <td>ATL</td>\n",
              "      <td>NL</td>\n",
              "      <td>1</td>\n",
              "      <td>NaN</td>\n",
              "    </tr>\n",
              "    <tr>\n",
              "      <th>5371</th>\n",
              "      <td>storytr01</td>\n",
              "      <td>2019.0</td>\n",
              "      <td>0.0</td>\n",
              "      <td>ALS201907090</td>\n",
              "      <td>COL</td>\n",
              "      <td>NL</td>\n",
              "      <td>1</td>\n",
              "      <td>NaN</td>\n",
              "    </tr>\n",
              "    <tr>\n",
              "      <th>5372</th>\n",
              "      <td>woodrbr01</td>\n",
              "      <td>2019.0</td>\n",
              "      <td>0.0</td>\n",
              "      <td>ALS201907090</td>\n",
              "      <td>MIL</td>\n",
              "      <td>NL</td>\n",
              "      <td>1</td>\n",
              "      <td>NaN</td>\n",
              "    </tr>\n",
              "    <tr>\n",
              "      <th>5373</th>\n",
              "      <td>yateski01</td>\n",
              "      <td>2019.0</td>\n",
              "      <td>0.0</td>\n",
              "      <td>ALS201907090</td>\n",
              "      <td>SDN</td>\n",
              "      <td>NL</td>\n",
              "      <td>0</td>\n",
              "      <td>NaN</td>\n",
              "    </tr>\n",
              "    <tr>\n",
              "      <th>5374</th>\n",
              "      <td>bailean01</td>\n",
              "      <td>NaN</td>\n",
              "      <td>NaN</td>\n",
              "      <td>NaN</td>\n",
              "      <td>OAK</td>\n",
              "      <td>AL</td>\n",
              "      <td>0</td>\n",
              "      <td>NaN</td>\n",
              "    </tr>\n",
              "  </tbody>\n",
              "</table>\n",
              "<p>5375 rows × 8 columns</p>\n",
              "</div>"
            ],
            "text/plain": [
              "       playerID  yearID  gameNum        gameID teamID lgID  GP  startingPos\n",
              "0     gomezle01  1933.0      0.0  ALS193307060    NYA   AL   1          1.0\n",
              "1     ferreri01  1933.0      0.0  ALS193307060    BOS   AL   1          2.0\n",
              "2     gehrilo01  1933.0      0.0  ALS193307060    NYA   AL   1          3.0\n",
              "3     gehrich01  1933.0      0.0  ALS193307060    DET   AL   1          4.0\n",
              "4     dykesji01  1933.0      0.0  ALS193307060    CHA   AL   1          5.0\n",
              "...         ...     ...      ...           ...    ...  ...  ..          ...\n",
              "5370  sorokmi01  2019.0      0.0  ALS201907090    ATL   NL   1          NaN\n",
              "5371  storytr01  2019.0      0.0  ALS201907090    COL   NL   1          NaN\n",
              "5372  woodrbr01  2019.0      0.0  ALS201907090    MIL   NL   1          NaN\n",
              "5373  yateski01  2019.0      0.0  ALS201907090    SDN   NL   0          NaN\n",
              "5374  bailean01     NaN      NaN           NaN    OAK   AL   0          NaN\n",
              "\n",
              "[5375 rows x 8 columns]"
            ]
          },
          "metadata": {
            "tags": []
          },
          "execution_count": 19
        }
      ]
    },
    {
      "cell_type": "code",
      "metadata": {
        "id": "YPGOlAGP4-AV",
        "outputId": "d163ba85-086b-40fb-9fd4-e7bd0899c2e7",
        "colab": {
          "base_uri": "https://localhost:8080/"
        }
      },
      "source": [
        "df.dtypes"
      ],
      "execution_count": 20,
      "outputs": [
        {
          "output_type": "execute_result",
          "data": {
            "text/plain": [
              "playerID        object\n",
              "yearID         float64\n",
              "gameNum        float64\n",
              "gameID          object\n",
              "teamID          object\n",
              "lgID            object\n",
              "GP               int64\n",
              "startingPos    float64\n",
              "dtype: object"
            ]
          },
          "metadata": {
            "tags": []
          },
          "execution_count": 20
        }
      ]
    },
    {
      "cell_type": "code",
      "metadata": {
        "id": "ODd5Jzup4_7P",
        "outputId": "3b243231-e046-45c6-acd2-965c6f31f2b0",
        "colab": {
          "base_uri": "https://localhost:8080/"
        }
      },
      "source": [
        "df['lgID'] = df['lgID'].astype('str')\n",
        "\n",
        "print(df.info())"
      ],
      "execution_count": 22,
      "outputs": [
        {
          "output_type": "stream",
          "text": [
            "<class 'pandas.core.frame.DataFrame'>\n",
            "RangeIndex: 5375 entries, 0 to 5374\n",
            "Data columns (total 8 columns):\n",
            " #   Column       Non-Null Count  Dtype  \n",
            "---  ------       --------------  -----  \n",
            " 0   playerID     5375 non-null   object \n",
            " 1   yearID       5374 non-null   float64\n",
            " 2   gameNum      5374 non-null   float64\n",
            " 3   gameID       5325 non-null   object \n",
            " 4   teamID       5375 non-null   object \n",
            " 5   lgID         5375 non-null   object \n",
            " 6   GP           5375 non-null   int64  \n",
            " 7   startingPos  1691 non-null   float64\n",
            "dtypes: float64(3), int64(1), object(4)\n",
            "memory usage: 336.1+ KB\n",
            "None\n"
          ],
          "name": "stdout"
        }
      ]
    },
    {
      "cell_type": "code",
      "metadata": {
        "id": "v3CF3pfq58Ns",
        "outputId": "16eee1e6-08a1-442a-93c7-89a0da76d445",
        "colab": {
          "base_uri": "https://localhost:8080/"
        }
      },
      "source": [
        "df['lgID'] = df['lgID'].astype('category')\n",
        "\n",
        "print(df.info())"
      ],
      "execution_count": 24,
      "outputs": [
        {
          "output_type": "stream",
          "text": [
            "<class 'pandas.core.frame.DataFrame'>\n",
            "RangeIndex: 5375 entries, 0 to 5374\n",
            "Data columns (total 8 columns):\n",
            " #   Column       Non-Null Count  Dtype   \n",
            "---  ------       --------------  -----   \n",
            " 0   playerID     5375 non-null   object  \n",
            " 1   yearID       5374 non-null   float64 \n",
            " 2   gameNum      5374 non-null   float64 \n",
            " 3   gameID       5325 non-null   object  \n",
            " 4   teamID       5375 non-null   object  \n",
            " 5   lgID         5375 non-null   category\n",
            " 6   GP           5375 non-null   int64   \n",
            " 7   startingPos  1691 non-null   float64 \n",
            "dtypes: category(1), float64(3), int64(1), object(3)\n",
            "memory usage: 299.4+ KB\n",
            "None\n"
          ],
          "name": "stdout"
        }
      ]
    },
    {
      "cell_type": "code",
      "metadata": {
        "id": "ibdmeWsvwQb4",
        "outputId": "a0827251-3cbf-4335-bcc8-4145caeec82d",
        "colab": {
          "base_uri": "https://localhost:8080/"
        }
      },
      "source": [
        "#Convert another column into a string type.\n",
        "df['gameID_str'] = df['gameID'].astype('str')\n",
        "\n",
        "print(df.dtypes)"
      ],
      "execution_count": 26,
      "outputs": [
        {
          "output_type": "stream",
          "text": [
            "playerID         object\n",
            "yearID          float64\n",
            "gameNum         float64\n",
            "gameID           object\n",
            "teamID           object\n",
            "lgID           category\n",
            "GP                int64\n",
            "startingPos     float64\n",
            "gameID_str       object\n",
            "dtype: object\n"
          ],
          "name": "stdout"
        }
      ]
    }
  ]
}